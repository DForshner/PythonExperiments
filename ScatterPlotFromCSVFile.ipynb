{
 "cells": [
  {
   "cell_type": "code",
   "execution_count": 1,
   "metadata": {
    "collapsed": false
   },
   "outputs": [],
   "source": [
    "%matplotlib inline"
   ]
  },
  {
   "cell_type": "code",
   "execution_count": 2,
   "metadata": {
    "collapsed": true
   },
   "outputs": [],
   "source": [
    "import numpy as np\n",
    "import matplotlib.pyplot as plt\n",
    "import matplotlib.dates as mdates"
   ]
  },
  {
   "cell_type": "code",
   "execution_count": 3,
   "metadata": {
    "collapsed": false,
    "scrolled": true
   },
   "outputs": [
    {
     "name": "stdout",
     "output_type": "stream",
     "text": [
      "('location', 'subLocation', 'dateId', 'timestamp', 'volume', 'duration')\n",
      "('PL1', 'AreaA', 229, '00:00.0', 1, 212)\n"
     ]
    }
   ],
   "source": [
    "# Load CSV data\n",
    "d = np.loadtxt('timeVol.csv', delimiter=',', dtype={\n",
    "    'names': ('location', 'subLocation', 'dateId', 'timestamp', 'volume', 'duration'),\n",
    "    'formats': ('S3', 'S10', 'i4', 'S9', 'i4', 'i4') })\n",
    "print(d.dtype.names)\n",
    "print(d[0])"
   ]
  },
  {
   "cell_type": "code",
   "execution_count": 4,
   "metadata": {
    "collapsed": false
   },
   "outputs": [],
   "source": [
    "# Filter results\n",
    "x = []\n",
    "y = []\n",
    "for i in range(len(d)):\n",
    "    loc = d['location'][i]\n",
    "    vol = d['volume'][i]\n",
    "    dur = d['duration'][i]\n",
    "    if (loc == 'PL1' and vol > 1 and dur > 1):\n",
    "        x.append(vol)\n",
    "        y.append(dur / vol)"
   ]
  },
  {
   "cell_type": "code",
   "execution_count": 5,
   "metadata": {
    "collapsed": false
   },
   "outputs": [
    {
     "data": {
      "image/png": "[encoded data removed]",
      "text/plain": [
       "<matplotlib.figure.Figure at 0x6d95a58>"
      ]
     },
     "metadata": {},
     "output_type": "display_data"
    }
   ],
   "source": [
    "# Display scatter plot\n",
    "plt.scatter(x, y)\n",
    "plt.show()"
   ]
  }
 ],
 "metadata": {
  "kernelspec": {
   "display_name": "Python 2",
   "language": "python",
   "name": "python2"
  },
  "language_info": {
   "codemirror_mode": {
    "name": "ipython",
    "version": 2
   },
   "file_extension": ".py",
   "mimetype": "text/x-python",
   "name": "python",
   "nbconvert_exporter": "python",
   "pygments_lexer": "ipython2",
   "version": "2.7.11"
  }
 },
 "nbformat": 4,
 "nbformat_minor": 0
}
